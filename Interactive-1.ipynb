{
 "cells": [
  {
   "cell_type": "markdown",
   "metadata": {},
   "source": [
    "Connected to Python 3.10.6"
   ]
  },
  {
   "cell_type": "code",
   "execution_count": 1,
   "metadata": {},
   "outputs": [],
   "source": [
    "import sqlite3"
   ]
  },
  {
   "cell_type": "code",
   "execution_count": 2,
   "metadata": {},
   "outputs": [],
   "source": [
    "import sqlite3\n",
    "\n",
    "connection = sqlite3.connect(\"lite.db\")\n",
    "cursor = connection.cursor()\n",
    "cursor.execute(\"CREATE TABLE store (item TEXT, quantity INTEGER, price REAL)\")\n",
    "\n",
    "connection.commit()\n",
    "connection.close()"
   ]
  },
  {
   "cell_type": "code",
   "execution_count": 3,
   "metadata": {},
   "outputs": [
    {
     "ename": "OperationalError",
     "evalue": "table store already exists",
     "output_type": "error",
     "traceback": [
      "\u001b[0;31m---------------------------------------------------------------------------\u001b[0m",
      "\u001b[0;31mOperationalError\u001b[0m                          Traceback (most recent call last)",
      "\u001b[1;32m/home/liam/Desktop/Python/SQL DB/main.py\u001b[0m in \u001b[0;36mline 5\n\u001b[1;32m      <a href='file:///home/liam/Desktop/Python/SQL%20DB/main.py?line=2'>3</a>\u001b[0m connection \u001b[39m=\u001b[39m sqlite3\u001b[39m.\u001b[39mconnect(\u001b[39m\"\u001b[39m\u001b[39mlite.db\u001b[39m\u001b[39m\"\u001b[39m)\n\u001b[1;32m      <a href='file:///home/liam/Desktop/Python/SQL%20DB/main.py?line=3'>4</a>\u001b[0m cursor \u001b[39m=\u001b[39m connection\u001b[39m.\u001b[39mcursor()\n\u001b[0;32m----> <a href='file:///home/liam/Desktop/Python/SQL%20DB/main.py?line=4'>5</a>\u001b[0m cursor\u001b[39m.\u001b[39;49mexecute(\u001b[39m\"\u001b[39;49m\u001b[39mCREATE TABLE store (item TEXT, quantity INTEGER, price REAL)\u001b[39;49m\u001b[39m\"\u001b[39;49m)\n\u001b[1;32m      <a href='file:///home/liam/Desktop/Python/SQL%20DB/main.py?line=6'>7</a>\u001b[0m connection\u001b[39m.\u001b[39mcommit()\n\u001b[1;32m      <a href='file:///home/liam/Desktop/Python/SQL%20DB/main.py?line=7'>8</a>\u001b[0m connection\u001b[39m.\u001b[39mclose()\n",
      "\u001b[0;31mOperationalError\u001b[0m: table store already exists"
     ]
    }
   ],
   "source": [
    "import sqlite3\n",
    "\n",
    "connection = sqlite3.connect(\"lite.db\")\n",
    "cursor = connection.cursor()\n",
    "cursor.execute(\"CREATE TABLE store (item TEXT, quantity INTEGER, price REAL)\")\n",
    "\n",
    "connection.commit()\n",
    "connection.close()"
   ]
  },
  {
   "cell_type": "code",
   "execution_count": 4,
   "metadata": {},
   "outputs": [],
   "source": [
    "import sqlite3\n",
    "\n",
    "connection = sqlite3.connect(\"lite.db\")\n",
    "cursor = connection.cursor()\n",
    "cursor.execute(\"CREATE TABLE IF NOT EXISTS store (item TEXT, quantity INTEGER, price REAL)\")\n",
    "\n",
    "connection.commit()\n",
    "connection.close()"
   ]
  },
  {
   "cell_type": "code",
   "execution_count": 5,
   "metadata": {},
   "outputs": [],
   "source": [
    "import sqlite3\n",
    "\n",
    "connection = sqlite3.connect(\"lite.db\")\n",
    "cursor = connection.cursor()\n",
    "cursor.execute(\"CREATE TABLE IF NOT EXISTS store (item TEXT, quantity INTEGER, price REAL)\")\n",
    "cursor.execute(\"INSERT INTO store VALUES ('Hennesy', 6, 39.99)\")\n",
    "\n",
    "connection.commit()\n",
    "connection.close()"
   ]
  },
  {
   "cell_type": "code",
   "execution_count": 6,
   "metadata": {},
   "outputs": [],
   "source": [
    "import sqlite3\n",
    "\n",
    "connection = sqlite3.connect(\"lite.db\")\n",
    "cursor = connection.cursor()\n",
    "\n",
    "def create_table():\n",
    "#\n",
    "    cursor.execute(\"CREATE TABLE IF NOT EXISTS store (item TEXT, quantity INTEGER, price REAL)\")\n",
    "    connection.commit()\n",
    "    connection.close()\n",
    "\n",
    "def edit_table():\n",
    "    cursor.execute(\"INSERT INTO store VALUES ('Hennesy', 6, 39.99)\")"
   ]
  },
  {
   "cell_type": "code",
   "execution_count": 7,
   "metadata": {},
   "outputs": [],
   "source": [
    "import sqlite3\n",
    "\n",
    "connection = sqlite3.connect(\"lite.db\")\n",
    "cursor = connection.cursor()\n",
    "\n",
    "def create_table():\n",
    "    cursor.execute(\"CREATE TABLE IF NOT EXISTS store (item TEXT, quantity INTEGER, price REAL)\")\n",
    "    connection.commit()\n",
    "    connection.close()\n",
    "\n",
    "def insert_table(item, quantity, price):\n",
    "    cursor.execute(\"INSERT INTO store VALUES (?,?,?)\",(item, quantity, price))\n",
    "\n",
    "\n",
    "insert_table(\"Hennessy\", 6, 39.95)"
   ]
  },
  {
   "cell_type": "code",
   "execution_count": 8,
   "metadata": {},
   "outputs": [
    {
     "name": "stdout",
     "output_type": "stream",
     "text": [
      "[('Hennesy', 6, 39.99), ('Hennesy', 6, 39.99), ('Hennessy', 6, 39.95)]\n"
     ]
    }
   ],
   "source": [
    "import sqlite3\n",
    "\n",
    "connection = sqlite3.connect(\"lite.db\")\n",
    "cursor = connection.cursor()\n",
    "\n",
    "def create_table():\n",
    "    cursor.execute(\"CREATE TABLE IF NOT EXISTS store (item TEXT, quantity INTEGER, price REAL)\")\n",
    "    connection.commit()\n",
    "    connection.close()\n",
    "\n",
    "def insert_table(item, quantity, price):\n",
    "    cursor.execute(\"INSERT INTO store VALUES (?,?,?)\",(item, quantity, price))\n",
    "\n",
    "insert_table(\"Hennessy\", 6, 39.95)\n",
    "\n",
    "def view_table():\n",
    "    cursor.execute(\"SELECT * FROM store\")\n",
    "    rows = cursor.fetchall()\n",
    "    return rows\n",
    "\n",
    "print(view_table())"
   ]
  },
  {
   "cell_type": "code",
   "execution_count": 9,
   "metadata": {},
   "outputs": [
    {
     "ename": "OperationalError",
     "evalue": "near \"REMOVE\": syntax error",
     "output_type": "error",
     "traceback": [
      "\u001b[0;31m---------------------------------------------------------------------------\u001b[0m",
      "\u001b[0;31mOperationalError\u001b[0m                          Traceback (most recent call last)",
      "\u001b[1;32m/home/liam/Desktop/Python/SQL DB/main.py\u001b[0m in \u001b[0;36mline 17\n\u001b[1;32m     <a href='file:///home/liam/Desktop/Python/SQL%20DB/main.py?line=13'>14</a>\u001b[0m \u001b[39mdef\u001b[39;00m \u001b[39mdelete_data\u001b[39m():\n\u001b[1;32m     <a href='file:///home/liam/Desktop/Python/SQL%20DB/main.py?line=14'>15</a>\u001b[0m     cursor\u001b[39m.\u001b[39mexecute(\u001b[39m\"\u001b[39m\u001b[39mREMOVE item WHERE item EQUALS \u001b[39m\u001b[39m'\u001b[39m\u001b[39mHennesy\u001b[39m\u001b[39m\"\u001b[39m)\n\u001b[0;32m---> <a href='file:///home/liam/Desktop/Python/SQL%20DB/main.py?line=16'>17</a>\u001b[0m delete_data()\n\u001b[1;32m     <a href='file:///home/liam/Desktop/Python/SQL%20DB/main.py?line=18'>19</a>\u001b[0m \u001b[39mdef\u001b[39;00m \u001b[39mview_table\u001b[39m():\n\u001b[1;32m     <a href='file:///home/liam/Desktop/Python/SQL%20DB/main.py?line=19'>20</a>\u001b[0m     cursor\u001b[39m.\u001b[39mexecute(\u001b[39m\"\u001b[39m\u001b[39mSELECT * FROM store\u001b[39m\u001b[39m\"\u001b[39m)\n",
      "\u001b[1;32m/home/liam/Desktop/Python/SQL DB/main.py\u001b[0m in \u001b[0;36mline 15\u001b[0m, in \u001b[0;36mdelete_data\u001b[0;34m()\n\u001b[1;32m     <a href='file:///home/liam/Desktop/Python/SQL%20DB/main.py?line=13'>14</a>\u001b[0m \u001b[39mdef\u001b[39;00m \u001b[39mdelete_data\u001b[39m():\n\u001b[0;32m---> <a href='file:///home/liam/Desktop/Python/SQL%20DB/main.py?line=14'>15</a>\u001b[0m     cursor\u001b[39m.\u001b[39;49mexecute(\u001b[39m\"\u001b[39;49m\u001b[39mREMOVE item WHERE item EQUALS \u001b[39;49m\u001b[39m'\u001b[39;49m\u001b[39mHennesy\u001b[39;49m\u001b[39m\"\u001b[39;49m)\n",
      "\u001b[0;31mOperationalError\u001b[0m: near \"REMOVE\": syntax error"
     ]
    }
   ],
   "source": [
    "import sqlite3\n",
    "\n",
    "connection = sqlite3.connect(\"lite.db\")\n",
    "cursor = connection.cursor()\n",
    "\n",
    "def create_table():\n",
    "    cursor.execute(\"CREATE TABLE IF NOT EXISTS store (item TEXT, quantity INTEGER, price REAL)\")\n",
    "    connection.commit()\n",
    "    connection.close()\n",
    "\n",
    "def insert_table(item, quantity, price):\n",
    "    cursor.execute(\"INSERT INTO store VALUES (?,?,?)\",(item, quantity, price))\n",
    "\n",
    "def delete_data():\n",
    "    cursor.execute(\"REMOVE item WHERE item EQUALS 'Hennesy\")\n",
    "\n",
    "delete_data()\n",
    "\n",
    "def view_table():\n",
    "    cursor.execute(\"SELECT * FROM store\")\n",
    "    rows = cursor.fetchall()\n",
    "    return rows\n",
    "\n",
    "print(view_table())"
   ]
  },
  {
   "cell_type": "code",
   "execution_count": 10,
   "metadata": {},
   "outputs": [
    {
     "name": "stdout",
     "output_type": "stream",
     "text": [
      "[]\n"
     ]
    }
   ],
   "source": [
    "import sqlite3\n",
    "\n",
    "connection = sqlite3.connect(\"lite.db\")\n",
    "cursor = connection.cursor()\n",
    "\n",
    "def create_table():\n",
    "    cursor.execute(\"CREATE TABLE IF NOT EXISTS store (item TEXT, quantity INTEGER, price REAL)\")\n",
    "    connection.commit()\n",
    "    connection.close()\n",
    "\n",
    "def insert_table(item, quantity, price):\n",
    "    cursor.execute(\"INSERT INTO store VALUES (?,?,?)\",(item, quantity, price))\n",
    "\n",
    "def delete_data():\n",
    "    cursor.execute(\"DELETE FROM store WHERE item='Hennesy'\")\n",
    "\n",
    "delete_data()\n",
    "\n",
    "def view_table():\n",
    "    cursor.execute(\"SELECT * FROM store\")\n",
    "    rows = cursor.fetchall()\n",
    "    return rows\n",
    "\n",
    "print(view_table())"
   ]
  },
  {
   "cell_type": "code",
   "execution_count": 11,
   "metadata": {},
   "outputs": [
    {
     "name": "stdout",
     "output_type": "stream",
     "text": [
      "[('PROPER TWELVE', 8, 29.99)]\n"
     ]
    }
   ],
   "source": [
    "import sqlite3\n",
    "\n",
    "connection = sqlite3.connect(\"lite.db\")\n",
    "cursor = connection.cursor()\n",
    "\n",
    "def create_table():\n",
    "    cursor.execute(\"CREATE TABLE IF NOT EXISTS store (item TEXT, quantity INTEGER, price REAL)\")\n",
    "    connection.commit()\n",
    "    connection.close()\n",
    "\n",
    "def insert_table(item, quantity, price):\n",
    "    cursor.execute(\"INSERT INTO store VALUES (?,?,?)\",(item, quantity, price))\n",
    "\n",
    "def delete_data():\n",
    "    cursor.execute(\"DELETE FROM store WHERE item='Hennesy'\")\n",
    "\n",
    "delete_data()\n",
    "insert_table(\"PROPER TWELVE\", 8, 29.99)\n",
    "\n",
    "def view_table():\n",
    "    cursor.execute(\"SELECT * FROM store\")\n",
    "    rows = cursor.fetchall()\n",
    "    return rows\n",
    "\n",
    "print(view_table())"
   ]
  },
  {
   "cell_type": "code",
   "execution_count": 12,
   "metadata": {},
   "outputs": [
    {
     "name": "stdout",
     "output_type": "stream",
     "text": [
      "[('PROPER TWELVE', 8, 29.99)]\n"
     ]
    }
   ],
   "source": [
    "import sqlite3\n",
    "\n",
    "connection = sqlite3.connect(\"lite.db\")\n",
    "cursor = connection.cursor()\n",
    "\n",
    "def create_table():\n",
    "    cursor.execute(\"CREATE TABLE IF NOT EXISTS store (item TEXT, quantity INTEGER, price REAL)\")\n",
    "    connection.commit()\n",
    "    connection.close()\n",
    "\n",
    "def insert_table(item, quantity, price):\n",
    "    cursor.execute(\"INSERT INTO store VALUES (?,?,?)\",(item, quantity, price))\n",
    "\n",
    "def delete_data():\n",
    "    cursor.execute(\"DELETE FROM store WHERE item='Hennesy'\")\n",
    "\n",
    "delete_data()\n",
    "insert_table(\"PROPER TWELVE\", 8, 29.99)\n",
    "\n",
    "def view_table():\n",
    "    cursor.execute(\"SELECT * FROM store\")\n",
    "    rows = cursor.fetchall()\n",
    "    return rows\n",
    "\n",
    "print(view_table())\n",
    "\n",
    "connection.close()"
   ]
  },
  {
   "cell_type": "code",
   "execution_count": 13,
   "metadata": {},
   "outputs": [
    {
     "name": "stdout",
     "output_type": "stream",
     "text": [
      "[('PROPER TWELVE', 8, 29.99)]\n"
     ]
    }
   ],
   "source": [
    "import sqlite3\n",
    "\n",
    "connection = sqlite3.connect(\"lite.db\")\n",
    "cursor = connection.cursor()\n",
    "\n",
    "def create_table():\n",
    "    cursor.execute(\"CREATE TABLE IF NOT EXISTS store (item TEXT, quantity INTEGER, price REAL)\")\n",
    "    connection.commit()\n",
    "    connection.close()\n",
    "\n",
    "def insert_table(item, quantity, price):\n",
    "    cursor.execute(\"INSERT INTO store VALUES (?,?,?)\",(item, quantity, price))\n",
    "\n",
    "def delete_data():\n",
    "    cursor.execute(\"DELETE FROM store WHERE item='Hennesy'\")\n",
    "\n",
    "delete_data()\n",
    "insert_table(\"PROPER TWELVE\", 8, 29.99)\n",
    "\n",
    "def view_table():\n",
    "    cursor.execute(\"SELECT * FROM store\")\n",
    "    rows = cursor.fetchall()\n",
    "    return rows\n",
    "\n",
    "print(view_table())\n",
    "\n",
    "connection.close()"
   ]
  },
  {
   "cell_type": "code",
   "execution_count": 14,
   "metadata": {},
   "outputs": [
    {
     "name": "stdout",
     "output_type": "stream",
     "text": [
      "[('PROPER TWELVE', 8, 29.99)]\n"
     ]
    }
   ],
   "source": [
    "import sqlite3\n",
    "\n",
    "connection = sqlite3.connect(\"lite.db\")\n",
    "cursor = connection.cursor()\n",
    "\n",
    "def create_table():\n",
    "    cursor.execute(\"CREATE TABLE IF NOT EXISTS store (item TEXT, quantity INTEGER, price REAL)\")\n",
    "    connection.commit()\n",
    "    connection.close()\n",
    "\n",
    "def insert_table(item, quantity, price):\n",
    "    cursor.execute(\"INSERT INTO store VALUES (?,?,?)\",(item, quantity, price))\n",
    "\n",
    "def delete_data():\n",
    "    cursor.execute(\"DELETE FROM store WHERE item='Hennesy'\")\n",
    "\n",
    "delete_data()\n",
    "insert_table(\"PROPER TWELVE\", 8, 29.99)\n",
    "\n",
    "def view_table():\n",
    "    cursor.execute(\"SELECT * FROM store\")\n",
    "    rows = cursor.fetchall()\n",
    "    return rows\n",
    "\n",
    "print(view_table())\n",
    "\n",
    "#connection.close()"
   ]
  }
 ],
 "metadata": {
  "kernelspec": {
   "display_name": "Python 3",
   "language": "python",
   "name": "python3"
  },
  "language_info": {
   "name": "python",
   "version": "3.10.6"
  }
 },
 "nbformat": 4,
 "nbformat_minor": 2
}
